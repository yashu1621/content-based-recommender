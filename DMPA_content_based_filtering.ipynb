{
  "cells": [
    {
      "metadata": {
        "_uuid": "8f2839f25d086af736a60e9eeb907d3b93b6e0e5",
        "_cell_guid": "b1076dfc-b9ad-4769-8c92-a6c4dae69d19",
        "trusted": true,
        "id": "1HMK3F-3cfto",
        "outputId": "98c00a86-cda3-4fea-cad3-1f1d69bd6017",
        "colab": {
          "base_uri": "https://localhost:8080/"
        }
      },
      "cell_type": "code",
      "source": [
        "import numpy as np \n",
        "import pandas as pd \n",
        "import matplotlib.pyplot as plt\n",
        "import seaborn as sns\n",
        "import re\n",
        "import os\n",
        "\n",
        "\n",
        "pd.set_option('display.max_colwidth', -1)\n",
        "plt.style.use('fivethirtyeight')\n",
        "plt.rcParams['figure.figsize'] = [18, 8]"
      ],
      "execution_count": null,
      "outputs": [
        {
          "output_type": "stream",
          "name": "stderr",
          "text": [
            "/usr/local/lib/python3.7/dist-packages/ipykernel_launcher.py:9: FutureWarning: Passing a negative integer is deprecated in version 1.0 and will not be supported in future version. Instead, use None to not limit the column width.\n",
            "  if __name__ == '__main__':\n"
          ]
        }
      ]
    },
    {
      "metadata": {
        "_uuid": "d629ff2d2480ee46fbb7e2d37f6b5fab8052498a",
        "_cell_guid": "79c7e3d0-c299-4dcb-8224-4455121ee9b0",
        "trusted": true,
        "colab": {
          "base_uri": "https://localhost:8080/"
        },
        "id": "A0szWwLycfts",
        "outputId": "b3cb7fba-0533-432f-fac3-38ed74470da7"
      },
      "cell_type": "code",
      "source": [
        "\n",
        "anime_df = pd.read_csv('animeno.csv')\n",
        "print('anime_df shape:', anime_df.shape)"
      ],
      "execution_count": null,
      "outputs": [
        {
          "output_type": "stream",
          "name": "stdout",
          "text": [
            "anime_df shape: (12291, 8)\n"
          ]
        }
      ]
    },
    {
      "metadata": {
        "trusted": true,
        "id": "XvFVk55Ccftt",
        "colab": {
          "base_uri": "https://localhost:8080/",
          "height": 206
        },
        "outputId": "d6c822df-1f9d-491d-8bd2-62c1a068dbe9"
      },
      "cell_type": "code",
      "source": [
        "anime_df.head()"
      ],
      "execution_count": null,
      "outputs": [
        {
          "output_type": "execute_result",
          "data": {
            "text/html": [
              "<div>\n",
              "<style scoped>\n",
              "    .dataframe tbody tr th:only-of-type {\n",
              "        vertical-align: middle;\n",
              "    }\n",
              "\n",
              "    .dataframe tbody tr th {\n",
              "        vertical-align: top;\n",
              "    }\n",
              "\n",
              "    .dataframe thead th {\n",
              "        text-align: right;\n",
              "    }\n",
              "</style>\n",
              "<table border=\"1\" class=\"dataframe\">\n",
              "  <thead>\n",
              "    <tr style=\"text-align: right;\">\n",
              "      <th></th>\n",
              "      <th>Unnamed: 0</th>\n",
              "      <th>anime_id</th>\n",
              "      <th>name</th>\n",
              "      <th>genre</th>\n",
              "      <th>type</th>\n",
              "      <th>episodes</th>\n",
              "      <th>rating</th>\n",
              "      <th>members</th>\n",
              "    </tr>\n",
              "  </thead>\n",
              "  <tbody>\n",
              "    <tr>\n",
              "      <th>0</th>\n",
              "      <td>0</td>\n",
              "      <td>32281</td>\n",
              "      <td>Kimi no Na wa.</td>\n",
              "      <td>Drama, Romance, School, Supernatural</td>\n",
              "      <td>Movie</td>\n",
              "      <td>1</td>\n",
              "      <td>9.37</td>\n",
              "      <td>200630</td>\n",
              "    </tr>\n",
              "    <tr>\n",
              "      <th>1</th>\n",
              "      <td>1</td>\n",
              "      <td>5114</td>\n",
              "      <td>Fullmetal Alchemist: Brotherhood</td>\n",
              "      <td>Action, Adventure, Drama, Fantasy, Magic, Military, Shounen</td>\n",
              "      <td>TV</td>\n",
              "      <td>64</td>\n",
              "      <td>9.26</td>\n",
              "      <td>793665</td>\n",
              "    </tr>\n",
              "    <tr>\n",
              "      <th>2</th>\n",
              "      <td>2</td>\n",
              "      <td>28977</td>\n",
              "      <td>Gintama°</td>\n",
              "      <td>Action, Comedy, Historical, Parody, Samurai, Sci-Fi, Shounen</td>\n",
              "      <td>TV</td>\n",
              "      <td>51</td>\n",
              "      <td>9.25</td>\n",
              "      <td>114262</td>\n",
              "    </tr>\n",
              "    <tr>\n",
              "      <th>3</th>\n",
              "      <td>3</td>\n",
              "      <td>9253</td>\n",
              "      <td>Steins;Gate</td>\n",
              "      <td>Sci-Fi, Thriller</td>\n",
              "      <td>TV</td>\n",
              "      <td>24</td>\n",
              "      <td>9.17</td>\n",
              "      <td>673572</td>\n",
              "    </tr>\n",
              "    <tr>\n",
              "      <th>4</th>\n",
              "      <td>4</td>\n",
              "      <td>9969</td>\n",
              "      <td>Gintama&amp;#039;</td>\n",
              "      <td>Action, Comedy, Historical, Parody, Samurai, Sci-Fi, Shounen</td>\n",
              "      <td>TV</td>\n",
              "      <td>51</td>\n",
              "      <td>9.16</td>\n",
              "      <td>151266</td>\n",
              "    </tr>\n",
              "  </tbody>\n",
              "</table>\n",
              "</div>"
            ],
            "text/plain": [
              "   Unnamed: 0  anime_id  ... rating members\n",
              "0  0           32281     ...  9.37   200630\n",
              "1  1           5114      ...  9.26   793665\n",
              "2  2           28977     ...  9.25   114262\n",
              "3  3           9253      ...  9.17   673572\n",
              "4  4           9969      ...  9.16   151266\n",
              "\n",
              "[5 rows x 8 columns]"
            ]
          },
          "metadata": {},
          "execution_count": 3
        }
      ]
    },
    {
      "metadata": {
        "id": "JF8Zl6A1cftu"
      },
      "cell_type": "markdown",
      "source": [
        "## Data Cleaning\n",
        "\n",
        "- Removing all null values."
      ]
    },
    {
      "metadata": {
        "trusted": true,
        "id": "e0SxJgfpcftv",
        "colab": {
          "base_uri": "https://localhost:8080/"
        },
        "outputId": "a52aceb5-f8e6-4e55-cdfd-429f7869db6a"
      },
      "cell_type": "code",
      "source": [
        "null_features = anime_df.columns[anime_df.isna().any()]\n",
        "anime_df[null_features].isna().sum()"
      ],
      "execution_count": null,
      "outputs": [
        {
          "output_type": "execute_result",
          "data": {
            "text/plain": [
              "genre     62 \n",
              "type      25 \n",
              "rating    230\n",
              "dtype: int64"
            ]
          },
          "metadata": {},
          "execution_count": 4
        }
      ]
    },
    {
      "metadata": {
        "trusted": true,
        "id": "CrK1Dnnxcftw"
      },
      "cell_type": "code",
      "source": [
        "anime_df.dropna(inplace=True)"
      ],
      "execution_count": null,
      "outputs": []
    },
    {
      "metadata": {
        "id": "VxKbwpZ_cfty"
      },
      "cell_type": "markdown",
      "source": [
        "## Exploratory data analysis"
      ]
    },
    {
      "metadata": {
        "trusted": true,
        "id": "g8-o3CDDcfty",
        "colab": {
          "base_uri": "https://localhost:8080/",
          "height": 297
        },
        "outputId": "a85548c2-b5ce-4468-d2c2-7801f5231b66"
      },
      "cell_type": "code",
      "source": [
        "type_count = anime_df['type'].value_counts()\n",
        "\n",
        "sns.barplot(x=type_count.values,\n",
        "            y=type_count.index,\n",
        "            palette='muted').set_title('Anime Types')\n",
        "\n",
        "plt.tight_layout()\n",
        "plt.show()"
      ],
      "execution_count": null,
      "outputs": [
        {
          "output_type": "display_data",
          "data": {
            "image/png": "[encoded data removed]",
            "text/plain": [
              "<Figure size 432x288 with 1 Axes>"
            ]
          },
          "metadata": {
            "needs_background": "light"
          }
        }
      ]
    },
    {
      "metadata": {
        "id": "u-WQDZnAcftz"
      },
      "cell_type": "markdown",
      "source": [
        "## What genres are in the anime dataset?"
      ]
    },
    {
      "metadata": {
        "trusted": true,
        "id": "fCVwUi-Ccft0"
      },
      "cell_type": "code",
      "source": [
        "from collections import defaultdict\n",
        "\n",
        "all_genres = defaultdict(int)\n",
        "\n",
        "for genres in anime_df['genre']:\n",
        "    for genre in genres.split(','):\n",
        "        all_genres[genre.strip()] += 1"
      ],
      "execution_count": null,
      "outputs": []
    },
    {
      "metadata": {
        "trusted": true,
        "id": "CkAG_pkDcft0",
        "colab": {
          "base_uri": "https://localhost:8080/",
          "height": 219
        },
        "outputId": "2c13c64f-a0ed-4e28-c4f9-dc4d6db6db03"
      },
      "cell_type": "code",
      "source": [
        "from wordcloud import WordCloud\n",
        "\n",
        "genres_cloud = WordCloud(width=800, height=400, background_color='white', colormap='gnuplot').generate_from_frequencies(all_genres)\n",
        "\n",
        "plt.imshow(genres_cloud, interpolation='bilinear')\n",
        "plt.axis('off')\n",
        "plt.show()"
      ],
      "execution_count": null,
      "outputs": [
        {
          "output_type": "display_data",
          "data": {
            "image/png": "[encoded data removed]",
            "text/plain": [
              "<Figure size 432x288 with 1 Axes>"
            ]
          },
          "metadata": {
            "needs_background": "light"
          }
        }
      ]
    },
    {
      "metadata": {
        "id": "aGRRZyZXcft1"
      },
      "cell_type": "markdown",
      "source": [
        "## Which anime has a longest episodes?\n",
        "\n",
        "- In the data set, episodes datatype is object, and not integer \n",
        "- because episodes has an Unknown values, which means that the anime is still ongoing\n"
      ]
    },
    {
      "metadata": {
        "trusted": true,
        "id": "le9KcmLNcft1",
        "colab": {
          "base_uri": "https://localhost:8080/"
        },
        "outputId": "f22616cd-c85f-4c41-90b6-f0c51d9113e2"
      },
      "cell_type": "code",
      "source": [
        "anime_df[anime_df['episodes'] == 'Unknown']['name'][:10]"
      ],
      "execution_count": null,
      "outputs": [
        {
          "output_type": "execute_result",
          "data": {
            "text/plain": [
              "74      One Piece                             \n",
              "252     Detective Conan                       \n",
              "615     Naruto: Shippuuden                    \n",
              "991     Crayon Shin-chan                      \n",
              "1021    Tanaka-kun wa Itsumo Kedaruge Specials\n",
              "1272    Yu☆Gi☆Oh! Arc-V                       \n",
              "1309    Doraemon (2005)                       \n",
              "1927    Dimension W: W no Tobira Online       \n",
              "1929    Dragon Ball Super                     \n",
              "1992    Aggressive Retsuko                    \n",
              "Name: name, dtype: object"
            ]
          },
          "metadata": {},
          "execution_count": 9
        }
      ]
    },
    {
      "metadata": {
        "trusted": true,
        "id": "pjOdFAvWcft1",
        "colab": {
          "base_uri": "https://localhost:8080/",
          "height": 300
        },
        "outputId": "80acf1c0-1561-47de-89fd-e4f63f2faac3"
      },
      "cell_type": "code",
      "source": [
        "episodes_count = anime_df[anime_df['episodes'] != 'Unknown'][['name', 'episodes']]\n",
        "episodes_count['episodes'] = pd.to_numeric(episodes_count['episodes'])\n",
        "\n",
        "episodes_count.query('episodes>1000')\n",
        "\n",
        "#shows anime with episodes greater than 1000"
      ],
      "execution_count": null,
      "outputs": [
        {
          "output_type": "execute_result",
          "data": {
            "text/html": [
              "<div>\n",
              "<style scoped>\n",
              "    .dataframe tbody tr th:only-of-type {\n",
              "        vertical-align: middle;\n",
              "    }\n",
              "\n",
              "    .dataframe tbody tr th {\n",
              "        vertical-align: top;\n",
              "    }\n",
              "\n",
              "    .dataframe thead th {\n",
              "        text-align: right;\n",
              "    }\n",
              "</style>\n",
              "<table border=\"1\" class=\"dataframe\">\n",
              "  <thead>\n",
              "    <tr style=\"text-align: right;\">\n",
              "      <th></th>\n",
              "      <th>name</th>\n",
              "      <th>episodes</th>\n",
              "    </tr>\n",
              "  </thead>\n",
              "  <tbody>\n",
              "    <tr>\n",
              "      <th>929</th>\n",
              "      <td>Doraemon (1979)</td>\n",
              "      <td>1787</td>\n",
              "    </tr>\n",
              "    <tr>\n",
              "      <th>5358</th>\n",
              "      <td>Manga Nippon Mukashibanashi (1976)</td>\n",
              "      <td>1471</td>\n",
              "    </tr>\n",
              "    <tr>\n",
              "      <th>6294</th>\n",
              "      <td>Oyako Club</td>\n",
              "      <td>1818</td>\n",
              "    </tr>\n",
              "    <tr>\n",
              "      <th>6578</th>\n",
              "      <td>Hoka Hoka Kazoku</td>\n",
              "      <td>1428</td>\n",
              "    </tr>\n",
              "    <tr>\n",
              "      <th>9240</th>\n",
              "      <td>Kirin Ashita no Calendar</td>\n",
              "      <td>1306</td>\n",
              "    </tr>\n",
              "    <tr>\n",
              "      <th>9241</th>\n",
              "      <td>Kirin Monoshiri Yakata</td>\n",
              "      <td>1565</td>\n",
              "    </tr>\n",
              "    <tr>\n",
              "      <th>9611</th>\n",
              "      <td>Monoshiri Daigaku: Ashita no Calendar</td>\n",
              "      <td>1274</td>\n",
              "    </tr>\n",
              "    <tr>\n",
              "      <th>10163</th>\n",
              "      <td>Sekai Monoshiri Ryoko</td>\n",
              "      <td>1006</td>\n",
              "    </tr>\n",
              "  </tbody>\n",
              "</table>\n",
              "</div>"
            ],
            "text/plain": [
              "                                        name  episodes\n",
              "929    Doraemon (1979)                        1787    \n",
              "5358   Manga Nippon Mukashibanashi (1976)     1471    \n",
              "6294   Oyako Club                             1818    \n",
              "6578   Hoka Hoka Kazoku                       1428    \n",
              "9240   Kirin Ashita no Calendar               1306    \n",
              "9241   Kirin Monoshiri Yakata                 1565    \n",
              "9611   Monoshiri Daigaku: Ashita no Calendar  1274    \n",
              "10163  Sekai Monoshiri Ryoko                  1006    "
            ]
          },
          "metadata": {},
          "execution_count": 10
        }
      ]
    },
    {
      "metadata": {
        "id": "XKJyoYaycft2"
      },
      "cell_type": "markdown",
      "source": [
        "## Which anime has the highest rating?\n",
        "\n",
        "- All top 10 anime are TV series"
      ]
    },
    {
      "metadata": {
        "trusted": true,
        "id": "pZkaoy_Tcft2",
        "colab": {
          "base_uri": "https://localhost:8080/",
          "height": 363
        },
        "outputId": "7b6e166c-e528-4921-ceb8-e5e225af494d"
      },
      "cell_type": "code",
      "source": [
        "anime_df[['name', 'rating', 'members', 'type']].sort_values(by='rating', ascending=False).query('members>500000')[:10]"
      ],
      "execution_count": null,
      "outputs": [
        {
          "output_type": "execute_result",
          "data": {
            "text/html": [
              "<div>\n",
              "<style scoped>\n",
              "    .dataframe tbody tr th:only-of-type {\n",
              "        vertical-align: middle;\n",
              "    }\n",
              "\n",
              "    .dataframe tbody tr th {\n",
              "        vertical-align: top;\n",
              "    }\n",
              "\n",
              "    .dataframe thead th {\n",
              "        text-align: right;\n",
              "    }\n",
              "</style>\n",
              "<table border=\"1\" class=\"dataframe\">\n",
              "  <thead>\n",
              "    <tr style=\"text-align: right;\">\n",
              "      <th></th>\n",
              "      <th>name</th>\n",
              "      <th>rating</th>\n",
              "      <th>members</th>\n",
              "      <th>type</th>\n",
              "    </tr>\n",
              "  </thead>\n",
              "  <tbody>\n",
              "    <tr>\n",
              "      <th>1</th>\n",
              "      <td>Fullmetal Alchemist: Brotherhood</td>\n",
              "      <td>9.26</td>\n",
              "      <td>793665</td>\n",
              "      <td>TV</td>\n",
              "    </tr>\n",
              "    <tr>\n",
              "      <th>3</th>\n",
              "      <td>Steins;Gate</td>\n",
              "      <td>9.17</td>\n",
              "      <td>673572</td>\n",
              "      <td>TV</td>\n",
              "    </tr>\n",
              "    <tr>\n",
              "      <th>13</th>\n",
              "      <td>Code Geass: Hangyaku no Lelouch R2</td>\n",
              "      <td>8.98</td>\n",
              "      <td>572888</td>\n",
              "      <td>TV</td>\n",
              "    </tr>\n",
              "    <tr>\n",
              "      <th>19</th>\n",
              "      <td>Code Geass: Hangyaku no Lelouch</td>\n",
              "      <td>8.83</td>\n",
              "      <td>715151</td>\n",
              "      <td>TV</td>\n",
              "    </tr>\n",
              "    <tr>\n",
              "      <th>23</th>\n",
              "      <td>One Punch Man</td>\n",
              "      <td>8.82</td>\n",
              "      <td>552458</td>\n",
              "      <td>TV</td>\n",
              "    </tr>\n",
              "    <tr>\n",
              "      <th>29</th>\n",
              "      <td>Tengen Toppa Gurren Lagann</td>\n",
              "      <td>8.78</td>\n",
              "      <td>562962</td>\n",
              "      <td>TV</td>\n",
              "    </tr>\n",
              "    <tr>\n",
              "      <th>40</th>\n",
              "      <td>Death Note</td>\n",
              "      <td>8.71</td>\n",
              "      <td>1013917</td>\n",
              "      <td>TV</td>\n",
              "    </tr>\n",
              "    <tr>\n",
              "      <th>74</th>\n",
              "      <td>One Piece</td>\n",
              "      <td>8.58</td>\n",
              "      <td>504862</td>\n",
              "      <td>TV</td>\n",
              "    </tr>\n",
              "    <tr>\n",
              "      <th>86</th>\n",
              "      <td>Shingeki no Kyojin</td>\n",
              "      <td>8.54</td>\n",
              "      <td>896229</td>\n",
              "      <td>TV</td>\n",
              "    </tr>\n",
              "    <tr>\n",
              "      <th>98</th>\n",
              "      <td>Psycho-Pass</td>\n",
              "      <td>8.50</td>\n",
              "      <td>509109</td>\n",
              "      <td>TV</td>\n",
              "    </tr>\n",
              "  </tbody>\n",
              "</table>\n",
              "</div>"
            ],
            "text/plain": [
              "                                  name  rating  members type\n",
              "1   Fullmetal Alchemist: Brotherhood    9.26    793665   TV \n",
              "3   Steins;Gate                         9.17    673572   TV \n",
              "13  Code Geass: Hangyaku no Lelouch R2  8.98    572888   TV \n",
              "19  Code Geass: Hangyaku no Lelouch     8.83    715151   TV \n",
              "23  One Punch Man                       8.82    552458   TV \n",
              "29  Tengen Toppa Gurren Lagann          8.78    562962   TV \n",
              "40  Death Note                          8.71    1013917  TV \n",
              "74  One Piece                           8.58    504862   TV \n",
              "86  Shingeki no Kyojin                  8.54    896229   TV \n",
              "98  Psycho-Pass                         8.50    509109   TV "
            ]
          },
          "metadata": {},
          "execution_count": 11
        }
      ]
    },
    {
      "metadata": {
        "id": "esr2B3W2cft2"
      },
      "cell_type": "markdown",
      "source": [
        "### Highest rated movie and OVA (Original Animated Video)\n",
        "\n",
        "> OVA's are Japanese animated films and series made specially for release in home video formats without prior showings on television or in theatres."
      ]
    },
    {
      "metadata": {
        "_kg_hide-input": true,
        "trusted": true,
        "id": "8En7Qa21cft3",
        "colab": {
          "base_uri": "https://localhost:8080/",
          "height": 206
        },
        "outputId": "175fcb80-9a16-41c7-c82e-05e5d6abeee2"
      },
      "cell_type": "code",
      "source": [
        "anime_df[anime_df['type'] == 'Movie'][['name', 'rating', 'members', 'type']].sort_values(by='rating', ascending=False).query('members>200000')[:5]"
      ],
      "execution_count": null,
      "outputs": [
        {
          "output_type": "execute_result",
          "data": {
            "text/html": [
              "<div>\n",
              "<style scoped>\n",
              "    .dataframe tbody tr th:only-of-type {\n",
              "        vertical-align: middle;\n",
              "    }\n",
              "\n",
              "    .dataframe tbody tr th {\n",
              "        vertical-align: top;\n",
              "    }\n",
              "\n",
              "    .dataframe thead th {\n",
              "        text-align: right;\n",
              "    }\n",
              "</style>\n",
              "<table border=\"1\" class=\"dataframe\">\n",
              "  <thead>\n",
              "    <tr style=\"text-align: right;\">\n",
              "      <th></th>\n",
              "      <th>name</th>\n",
              "      <th>rating</th>\n",
              "      <th>members</th>\n",
              "      <th>type</th>\n",
              "    </tr>\n",
              "  </thead>\n",
              "  <tbody>\n",
              "    <tr>\n",
              "      <th>0</th>\n",
              "      <td>Kimi no Na wa.</td>\n",
              "      <td>9.37</td>\n",
              "      <td>200630</td>\n",
              "      <td>Movie</td>\n",
              "    </tr>\n",
              "    <tr>\n",
              "      <th>15</th>\n",
              "      <td>Sen to Chihiro no Kamikakushi</td>\n",
              "      <td>8.93</td>\n",
              "      <td>466254</td>\n",
              "      <td>Movie</td>\n",
              "    </tr>\n",
              "    <tr>\n",
              "      <th>18</th>\n",
              "      <td>Ookami Kodomo no Ame to Yuki</td>\n",
              "      <td>8.84</td>\n",
              "      <td>226193</td>\n",
              "      <td>Movie</td>\n",
              "    </tr>\n",
              "    <tr>\n",
              "      <th>25</th>\n",
              "      <td>Suzumiya Haruhi no Shoushitsu</td>\n",
              "      <td>8.81</td>\n",
              "      <td>240297</td>\n",
              "      <td>Movie</td>\n",
              "    </tr>\n",
              "    <tr>\n",
              "      <th>24</th>\n",
              "      <td>Mononoke Hime</td>\n",
              "      <td>8.81</td>\n",
              "      <td>339556</td>\n",
              "      <td>Movie</td>\n",
              "    </tr>\n",
              "  </tbody>\n",
              "</table>\n",
              "</div>"
            ],
            "text/plain": [
              "                             name  rating  members   type\n",
              "0   Kimi no Na wa.                 9.37    200630   Movie\n",
              "15  Sen to Chihiro no Kamikakushi  8.93    466254   Movie\n",
              "18  Ookami Kodomo no Ame to Yuki   8.84    226193   Movie\n",
              "25  Suzumiya Haruhi no Shoushitsu  8.81    240297   Movie\n",
              "24  Mononoke Hime                  8.81    339556   Movie"
            ]
          },
          "metadata": {},
          "execution_count": 12
        }
      ]
    },
    {
      "metadata": {
        "_kg_hide-input": true,
        "trusted": true,
        "id": "wjAsSJqjcft3",
        "colab": {
          "base_uri": "https://localhost:8080/",
          "height": 206
        },
        "outputId": "218861da-b1e1-42a6-d236-b28c89a5471b"
      },
      "cell_type": "code",
      "source": [
        "anime_df[anime_df['type'] == 'OVA'][['name', 'rating', 'members', 'type']].sort_values(by='rating', ascending=False).query('members>100000')[:5]"
      ],
      "execution_count": null,
      "outputs": [
        {
          "output_type": "execute_result",
          "data": {
            "text/html": [
              "<div>\n",
              "<style scoped>\n",
              "    .dataframe tbody tr th:only-of-type {\n",
              "        vertical-align: middle;\n",
              "    }\n",
              "\n",
              "    .dataframe tbody tr th {\n",
              "        vertical-align: top;\n",
              "    }\n",
              "\n",
              "    .dataframe thead th {\n",
              "        text-align: right;\n",
              "    }\n",
              "</style>\n",
              "<table border=\"1\" class=\"dataframe\">\n",
              "  <thead>\n",
              "    <tr style=\"text-align: right;\">\n",
              "      <th></th>\n",
              "      <th>name</th>\n",
              "      <th>rating</th>\n",
              "      <th>members</th>\n",
              "      <th>type</th>\n",
              "    </tr>\n",
              "  </thead>\n",
              "  <tbody>\n",
              "    <tr>\n",
              "      <th>21</th>\n",
              "      <td>Rurouni Kenshin: Meiji Kenkaku Romantan - Tsuioku-hen</td>\n",
              "      <td>8.83</td>\n",
              "      <td>129307</td>\n",
              "      <td>OVA</td>\n",
              "    </tr>\n",
              "    <tr>\n",
              "      <th>66</th>\n",
              "      <td>Hellsing Ultimate</td>\n",
              "      <td>8.59</td>\n",
              "      <td>297454</td>\n",
              "      <td>OVA</td>\n",
              "    </tr>\n",
              "    <tr>\n",
              "      <th>245</th>\n",
              "      <td>Detroit Metal City</td>\n",
              "      <td>8.26</td>\n",
              "      <td>104893</td>\n",
              "      <td>OVA</td>\n",
              "    </tr>\n",
              "    <tr>\n",
              "      <th>359</th>\n",
              "      <td>Black Lagoon: Roberta&amp;#039;s Blood Trail</td>\n",
              "      <td>8.15</td>\n",
              "      <td>108099</td>\n",
              "      <td>OVA</td>\n",
              "    </tr>\n",
              "    <tr>\n",
              "      <th>456</th>\n",
              "      <td>FLCL</td>\n",
              "      <td>8.06</td>\n",
              "      <td>305165</td>\n",
              "      <td>OVA</td>\n",
              "    </tr>\n",
              "  </tbody>\n",
              "</table>\n",
              "</div>"
            ],
            "text/plain": [
              "                                                      name  ...  type\n",
              "21   Rurouni Kenshin: Meiji Kenkaku Romantan - Tsuioku-hen  ...  OVA \n",
              "66   Hellsing Ultimate                                      ...  OVA \n",
              "245  Detroit Metal City                                     ...  OVA \n",
              "359  Black Lagoon: Roberta&#039;s Blood Trail               ...  OVA \n",
              "456  FLCL                                                   ...  OVA \n",
              "\n",
              "[5 rows x 4 columns]"
            ]
          },
          "metadata": {},
          "execution_count": 13
        }
      ]
    },
    {
      "metadata": {
        "id": "6zBxRQ2Dcft3"
      },
      "cell_type": "markdown",
      "source": [
        "## Content-Based Recommendation-System"
      ]
    },
    {
      "metadata": {
        "trusted": true,
        "id": "17wQl2cqcft4"
      },
      "cell_type": "code",
      "source": [
        "from sklearn.feature_extraction.text import TfidfVectorizer\n",
        "\n",
        "genres_str = anime_df['genre'].str.split(',').astype(str)\n",
        "\n",
        "tfidf = TfidfVectorizer(analyzer='word', ngram_range=(1, 4), min_df=0)\n",
        "tfidf_matrix = tfidf.fit_transform(genres_str)\n",
        "\n",
        "\n"
      ],
      "execution_count": null,
      "outputs": []
    },
    {
      "metadata": {
        "trusted": true,
        "id": "m75m7Qrccft4"
      },
      "cell_type": "code",
      "source": [
        "from sklearn.metrics.pairwise import linear_kernel\n",
        "\n",
        "cosine_sim = linear_kernel(tfidf_matrix, tfidf_matrix)"
      ],
      "execution_count": null,
      "outputs": []
    },
    {
      "metadata": {
        "trusted": true,
        "id": "5h2-GJKJcft5"
      },
      "cell_type": "code",
      "source": [
        "indices = pd.Series(anime_df.index, index=anime_df['name'])\n",
        "\n",
        "def genre_recommendations(title, highest_rating=False, similarity=False):\n",
        "    \n",
        "    if highest_rating == False:\n",
        "        if similarity == False:\n",
        "        \n",
        "            idx = indices[title]\n",
        "            sim_scores = list(enumerate(cosine_sim[idx]))\n",
        "            sim_scores = sorted(sim_scores, key=lambda x: x[1], reverse=True)\n",
        "            sim_scores = sim_scores[1:11]\n",
        "        \n",
        "            anime_indices = [i[0] for i in sim_scores]\n",
        "        \n",
        "            return pd.DataFrame({'Anime name': anime_df['name'].iloc[anime_indices].values,\n",
        "                                 'Type': anime_df['type'].iloc[anime_indices].values})\n",
        "    \n",
        "        elif similarity == True:\n",
        "        \n",
        "            idx = indices[title]\n",
        "            sim_scores = list(enumerate(cosine_sim[idx]))\n",
        "            sim_scores = sorted(sim_scores, key=lambda x: x[1], reverse=True)\n",
        "            sim_scores = sim_scores[1:11]\n",
        "        \n",
        "            anime_indices = [i[0] for i in sim_scores]\n",
        "            similarity_ = [i[1] for i in sim_scores]\n",
        "        \n",
        "            return pd.DataFrame({'Anime name': anime_df['name'].iloc[anime_indices].values,\n",
        "                                 'Similarity': similarity_,\n",
        "                                 'Type': anime_df['type'].iloc[anime_indices].values})\n",
        "        \n",
        "    elif highest_rating == True:\n",
        "        if similarity == False:\n",
        "        \n",
        "            idx = indices[title]\n",
        "            sim_scores = list(enumerate(cosine_sim[idx]))\n",
        "            sim_scores = sorted(sim_scores, key=lambda x: x[1], reverse=True)\n",
        "            sim_scores = sim_scores[1:11]\n",
        "        \n",
        "            anime_indices = [i[0] for i in sim_scores]\n",
        "        \n",
        "            result_df = pd.DataFrame({'Anime name': anime_df['name'].iloc[anime_indices].values,\n",
        "                                 'Type': anime_df['type'].iloc[anime_indices].values,\n",
        "                                 'Rating': anime_df['rating'].iloc[anime_indices].values})\n",
        "            \n",
        "            return result_df.sort_values('Rating', ascending=False)\n",
        "    \n",
        "        elif similarity == True:\n",
        "        \n",
        "            idx = indices[title]\n",
        "            sim_scores = list(enumerate(cosine_sim[idx]))\n",
        "            sim_scores = sorted(sim_scores, key=lambda x: x[1], reverse=True)\n",
        "            sim_scores = sim_scores[1:11]\n",
        "        \n",
        "            anime_indices = [i[0] for i in sim_scores]\n",
        "            similarity_ = [i[1] for i in sim_scores]\n",
        "        \n",
        "            result_df = pd.DataFrame({'Anime name': anime_df['name'].iloc[anime_indices].values,\n",
        "                                 'Similarity': similarity_,\n",
        "                                 'Type': anime_df['type'].iloc[anime_indices].values,\n",
        "                                 'Rating': anime_df['rating'].iloc[anime_indices].values})\n",
        "            \n",
        "            return result_df.sort_values('Rating', ascending=False)"
      ],
      "execution_count": null,
      "outputs": []
    },
    {
      "metadata": {
        "trusted": true,
        "id": "OjGbTaPjcft6",
        "colab": {
          "base_uri": "https://localhost:8080/",
          "height": 363
        },
        "outputId": "201da096-70c9-4a71-d308-682a1d7c3acc"
      },
      "cell_type": "code",
      "source": [
        "genre_recommendations('Ajin', highest_rating=False, similarity=True)"
      ],
      "execution_count": null,
      "outputs": [
        {
          "output_type": "execute_result",
          "data": {
            "text/html": [
              "<div>\n",
              "<style scoped>\n",
              "    .dataframe tbody tr th:only-of-type {\n",
              "        vertical-align: middle;\n",
              "    }\n",
              "\n",
              "    .dataframe tbody tr th {\n",
              "        vertical-align: top;\n",
              "    }\n",
              "\n",
              "    .dataframe thead th {\n",
              "        text-align: right;\n",
              "    }\n",
              "</style>\n",
              "<table border=\"1\" class=\"dataframe\">\n",
              "  <thead>\n",
              "    <tr style=\"text-align: right;\">\n",
              "      <th></th>\n",
              "      <th>Anime name</th>\n",
              "      <th>Similarity</th>\n",
              "      <th>Type</th>\n",
              "    </tr>\n",
              "  </thead>\n",
              "  <tbody>\n",
              "    <tr>\n",
              "      <th>0</th>\n",
              "      <td>Ajin Part 1: Shoudou</td>\n",
              "      <td>1.000000</td>\n",
              "      <td>Movie</td>\n",
              "    </tr>\n",
              "    <tr>\n",
              "      <th>1</th>\n",
              "      <td>Ajin</td>\n",
              "      <td>1.000000</td>\n",
              "      <td>TV</td>\n",
              "    </tr>\n",
              "    <tr>\n",
              "      <th>2</th>\n",
              "      <td>Ajin OVA</td>\n",
              "      <td>1.000000</td>\n",
              "      <td>OVA</td>\n",
              "    </tr>\n",
              "    <tr>\n",
              "      <th>3</th>\n",
              "      <td>Ajin Part 2: Shoutotsu</td>\n",
              "      <td>1.000000</td>\n",
              "      <td>Movie</td>\n",
              "    </tr>\n",
              "    <tr>\n",
              "      <th>4</th>\n",
              "      <td>Ajin Part 3: Shougeki</td>\n",
              "      <td>1.000000</td>\n",
              "      <td>Movie</td>\n",
              "    </tr>\n",
              "    <tr>\n",
              "      <th>5</th>\n",
              "      <td>Bungou Stray Dogs 2nd Season</td>\n",
              "      <td>0.580735</td>\n",
              "      <td>TV</td>\n",
              "    </tr>\n",
              "    <tr>\n",
              "      <th>6</th>\n",
              "      <td>Mononoke</td>\n",
              "      <td>0.501683</td>\n",
              "      <td>TV</td>\n",
              "    </tr>\n",
              "    <tr>\n",
              "      <th>7</th>\n",
              "      <td>Monster Extra</td>\n",
              "      <td>0.430660</td>\n",
              "      <td>Special</td>\n",
              "    </tr>\n",
              "    <tr>\n",
              "      <th>8</th>\n",
              "      <td>Ookamikakushi</td>\n",
              "      <td>0.421068</td>\n",
              "      <td>TV</td>\n",
              "    </tr>\n",
              "    <tr>\n",
              "      <th>9</th>\n",
              "      <td>Danganronpa 3: The End of Kibougamine Gakuen - Kibou-hen</td>\n",
              "      <td>0.402265</td>\n",
              "      <td>Special</td>\n",
              "    </tr>\n",
              "  </tbody>\n",
              "</table>\n",
              "</div>"
            ],
            "text/plain": [
              "                                                 Anime name  ...     Type\n",
              "0  Ajin Part 1: Shoudou                                      ...  Movie  \n",
              "1  Ajin                                                      ...  TV     \n",
              "2  Ajin OVA                                                  ...  OVA    \n",
              "3  Ajin Part 2: Shoutotsu                                    ...  Movie  \n",
              "4  Ajin Part 3: Shougeki                                     ...  Movie  \n",
              "5  Bungou Stray Dogs 2nd Season                              ...  TV     \n",
              "6  Mononoke                                                  ...  TV     \n",
              "7  Monster Extra                                             ...  Special\n",
              "8  Ookamikakushi                                             ...  TV     \n",
              "9  Danganronpa 3: The End of Kibougamine Gakuen - Kibou-hen  ...  Special\n",
              "\n",
              "[10 rows x 3 columns]"
            ]
          },
          "metadata": {},
          "execution_count": 17
        }
      ]
    }
  ],
  "metadata": {
    "kernelspec": {
      "language": "python",
      "display_name": "Python 3",
      "name": "python3"
    },
    "language_info": {
      "pygments_lexer": "ipython3",
      "nbconvert_exporter": "python",
      "version": "3.6.4",
      "file_extension": ".py",
      "codemirror_mode": {
        "name": "ipython",
        "version": 3
      },
      "name": "python",
      "mimetype": "text/x-python"
    },
    "colab": {
      "name": "DMPA_content-based-filtering.ipynb",
      "provenance": [],
      "collapsed_sections": []
    }
  },
  "nbformat": 4,
  "nbformat_minor": 0
}